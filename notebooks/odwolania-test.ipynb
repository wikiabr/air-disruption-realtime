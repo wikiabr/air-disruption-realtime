{
 "cells": [
  {
   "cell_type": "raw",
   "id": "483b581d-2e6b-4255-b757-4f2f49955308",
   "metadata": {},
   "source": [
    "import pandas as pd\n",
    "import random\n",
    "\n",
    "file_path = \"_ALL_FLIGHTS_30m.csv\"\n",
    "sample_size = 100"
   ]
  },
  {
   "cell_type": "code",
   "execution_count": 9,
   "id": "dd6c0e95-dd4c-4c0e-bdf6-8c6ade1b6704",
   "metadata": {},
   "outputs": [],
   "source": [
    "# Krok 1: policz liczbę wierszy w pliku\n",
    "with open(file_path, 'r', encoding='utf-8-sig') as f:\n",
    "    total_lines = sum(1 for line in f)\n",
    "\n",
    "# Odejmij 1 bo pierwszy wiersz to nagłówek\n",
    "data_lines = total_lines - 1\n",
    "\n",
    "# Wybierz losowy początek (tak żeby zmieścić 100 wierszy)\n",
    "start_row = random.randint(1, data_lines - sample_size)"
   ]
  },
  {
   "cell_type": "code",
   "execution_count": 10,
   "id": "71b298c3-c8fa-46e3-ae6d-3492e2e11857",
   "metadata": {},
   "outputs": [],
   "source": [
    "# Krok 2: wczytaj tylko potrzebne wiersze\n",
    "sample_df = pd.read_csv(\n",
    "    file_path,\n",
    "    skiprows=range(1, start_row),  # pomijamy od 1 do start_row-1\n",
    "    nrows=sample_size,\n",
    "    encoding=\"utf-8-sig\"\n",
    ")"
   ]
  },
  {
   "cell_type": "code",
   "execution_count": 11,
   "id": "5e9efc4c-6cd4-436b-81df-66314d54a506",
   "metadata": {},
   "outputs": [],
   "source": [
    "# Krok 3: przygotuj CANCELLED + CODE\n",
    "cancellation_codes = ['A', 'B', 'C', 'D']\n",
    "\n",
    "for i in range(len(sample_df)):\n",
    "    if i % 3 == 0:\n",
    "        sample_df.loc[i, \"CANCELLED\"] = 1.0\n",
    "        sample_df.loc[i, \"CANCELLATION_CODE\"] = random.choice(cancellation_codes)\n",
    "    else:\n",
    "        sample_df.loc[i, \"CANCELLED\"] = 0.0\n",
    "        sample_df.loc[i, \"CANCELLATION_CODE\"] = \"\""
   ]
  },
  {
   "cell_type": "code",
   "execution_count": 12,
   "id": "d0998024-5dce-40e9-bb5e-f81aaaa40975",
   "metadata": {},
   "outputs": [
    {
     "name": "stdout",
     "output_type": "stream",
     "text": [
      "✅ Gotowe! Zapisano próbkę do sample_flights.csv\n"
     ]
    }
   ],
   "source": [
    "# Krok 4: zapisz do mniejszego pliku\n",
    "sample_df.to_csv(\"dashboard_sample.csv\", index=False, encoding=\"utf-8-sig\")\n",
    "print(\"✅ Gotowe! Zapisano próbkę do sample_flights.csv\")"
   ]
  }
 ],
 "metadata": {
  "kernelspec": {
   "display_name": "Python 3 (ipykernel)",
   "language": "python",
   "name": "python3"
  },
  "language_info": {
   "codemirror_mode": {
    "name": "ipython",
    "version": 3
   },
   "file_extension": ".py",
   "mimetype": "text/x-python",
   "name": "python",
   "nbconvert_exporter": "python",
   "pygments_lexer": "ipython3",
   "version": "3.11.6"
  }
 },
 "nbformat": 4,
 "nbformat_minor": 5
}
